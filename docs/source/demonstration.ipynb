{
 "cells": [
  {
   "attachments": {},
   "cell_type": "markdown",
   "metadata": {},
   "source": [
    "# Demonstration of DataVizML\n",
    "\n",
    "This notebook will demonstrate the capabilities of the `DataVizML` library"
   ]
  },
  {
   "attachments": {},
   "cell_type": "markdown",
   "metadata": {},
   "source": [
    "## Import libraries"
   ]
  },
  {
   "cell_type": "code",
   "execution_count": null,
   "metadata": {},
   "outputs": [],
   "source": [
    "from datavizml import SingleDistribution, ExploratoryDataAnalysis\n",
    "import matplotlib.pyplot as plt\n",
    "import numpy as np\n",
    "import pandas as pd\n",
    "from sklearn.datasets import load_breast_cancer, load_diabetes, load_iris"
   ]
  },
  {
   "attachments": {},
   "cell_type": "markdown",
   "metadata": {},
   "source": [
    "## Load data"
   ]
  },
  {
   "cell_type": "code",
   "execution_count": null,
   "metadata": {},
   "outputs": [],
   "source": [
    "# binary classification dataset\n",
    "X_binary_classification, y_binary_classification = load_breast_cancer(\n",
    "    return_X_y=True, as_frame=True\n",
    ")\n",
    "X_binary_classification = X_binary_classification.iloc[:, :8]\n",
    "y_binary_classification = y_binary_classification.astype(bool)\n",
    "\n",
    "# regression dataset\n",
    "X_regression, y_regression = load_diabetes(return_X_y=True, as_frame=True)\n",
    "\n",
    "# multiclass dataset\n",
    "X_multiclass_classification, y_multiclass_classification = load_iris(\n",
    "    return_X_y=True, as_frame=True\n",
    ")\n",
    "class_map = {k: v for k, v in enumerate(load_iris()[\"target_names\"])}\n",
    "y_multiclass_classification = y_multiclass_classification.map(class_map)"
   ]
  },
  {
   "attachments": {},
   "cell_type": "markdown",
   "metadata": {},
   "source": [
    "## Demonstrate with binary classification"
   ]
  },
  {
   "cell_type": "code",
   "execution_count": null,
   "metadata": {},
   "outputs": [],
   "source": [
    "# create and run eda for data and target\n",
    "fig = ExploratoryDataAnalysis(\n",
    "    data=X_binary_classification,\n",
    "    target=y_binary_classification,\n",
    "    ncols=4,\n",
    "    figure_width=18,\n",
    "    axes_height=2.5,\n",
    ")()\n",
    "\n",
    "# set figure layout\n",
    "fig.tight_layout()"
   ]
  },
  {
   "cell_type": "code",
   "execution_count": null,
   "metadata": {},
   "outputs": [],
   "source": [
    "# initialise figure\n",
    "ncols = 4\n",
    "nrows = -(-(X_binary_classification.shape[1]) // ncols)\n",
    "fig, ax_all = plt.subplots(ncols=ncols, nrows=nrows, figsize=(15, 3 * nrows))\n",
    "\n",
    "# loop though all features as an array\n",
    "for (_, x), ax in zip(X_binary_classification.items(), ax_all.flatten()):\n",
    "    SingleDistribution(x.values, ax)()\n",
    "\n",
    "# set figure layout\n",
    "fig.tight_layout()"
   ]
  },
  {
   "attachments": {},
   "cell_type": "markdown",
   "metadata": {},
   "source": [
    "## Demonstrate with regression"
   ]
  },
  {
   "cell_type": "code",
   "execution_count": null,
   "metadata": {},
   "outputs": [],
   "source": [
    "# initialise figure\n",
    "ncols = 5\n",
    "nrows = -(-(X_regression.shape[1]) // ncols)\n",
    "fig, ax_all = plt.subplots(ncols=ncols, nrows=nrows, figsize=(18, 3 * nrows))\n",
    "\n",
    "# loop though all features as an array\n",
    "for (_, x), ax in zip(X_regression.items(), ax_all.flatten()):\n",
    "    SingleDistribution(x, ax, y_regression)()\n",
    "\n",
    "# set figure layout\n",
    "fig.tight_layout()"
   ]
  },
  {
   "attachments": {},
   "cell_type": "markdown",
   "metadata": {},
   "source": [
    "## Demonstrate with multiclass classification"
   ]
  },
  {
   "cell_type": "code",
   "execution_count": null,
   "metadata": {},
   "outputs": [],
   "source": [
    "# initialise figure\n",
    "ncols = 4\n",
    "nrows = -(-(X_multiclass_classification.shape[1]) // ncols)\n",
    "fig, ax_all = plt.subplots(ncols=ncols, nrows=nrows, figsize=(18, 4 * nrows))\n",
    "\n",
    "# loop though all features as an array\n",
    "for (_, x), ax in zip(X_multiclass_classification.items(), ax_all.flatten()):\n",
    "    SingleDistribution(x, ax, y_multiclass_classification)()\n",
    "\n",
    "# set figure layout\n",
    "fig.tight_layout()"
   ]
  }
 ],
 "metadata": {
  "kernelspec": {
   "display_name": "env",
   "language": "python",
   "name": "python3"
  },
  "language_info": {
   "codemirror_mode": {
    "name": "ipython",
    "version": 3
   },
   "file_extension": ".py",
   "mimetype": "text/x-python",
   "name": "python",
   "nbconvert_exporter": "python",
   "pygments_lexer": "ipython3",
   "version": "3.8.6"
  },
  "orig_nbformat": 4,
  "vscode": {
   "interpreter": {
    "hash": "36d6aa84c87f1b104a600d17a8d98efd39d05e6f2d1b03c4fd1ed4cea37bc839"
   }
  }
 },
 "nbformat": 4,
 "nbformat_minor": 2
}
