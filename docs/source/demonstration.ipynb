{
 "cells": [
  {
   "attachments": {},
   "cell_type": "markdown",
   "metadata": {},
   "source": [
    "# Demonstration of DataVizML\n",
    "\n",
    "This notebook will demonstrate the capabilities of the `DataVizML` library"
   ]
  },
  {
   "attachments": {},
   "cell_type": "markdown",
   "metadata": {},
   "source": [
    "## Import libraries"
   ]
  },
  {
   "cell_type": "code",
   "execution_count": null,
   "metadata": {},
   "outputs": [],
   "source": [
    "import datavizml.datavizml as dv\n",
    "import matplotlib.pyplot as plt\n",
    "from sklearn.datasets import load_breast_cancer"
   ]
  },
  {
   "attachments": {},
   "cell_type": "markdown",
   "metadata": {},
   "source": [
    "## Load data"
   ]
  },
  {
   "cell_type": "code",
   "execution_count": null,
   "metadata": {},
   "outputs": [],
   "source": [
    "# binary classification dataset\n",
    "X, y = load_breast_cancer(return_X_y=True, as_frame=True)\n",
    "X = X.iloc[:, :8]"
   ]
  },
  {
   "attachments": {},
   "cell_type": "markdown",
   "metadata": {},
   "source": [
    "## Demonstrate with binary classification"
   ]
  },
  {
   "cell_type": "code",
   "execution_count": null,
   "metadata": {},
   "outputs": [],
   "source": [
    "# initialise figure\n",
    "ncols = 4\n",
    "nrows = -(-(X.shape[1]) // ncols)\n",
    "fig, ax_all = plt.subplots(ncols=ncols, nrows=nrows, figsize=(18, 3 * nrows))\n",
    "\n",
    "# loop though all features\n",
    "for (_, x), ax in zip(X.items(), ax_all.flatten()):\n",
    "    dv.SingleDistribution(x, ax, y)()\n",
    "\n",
    "# set figure layout\n",
    "fig.tight_layout()"
   ]
  },
  {
   "cell_type": "code",
   "execution_count": null,
   "metadata": {},
   "outputs": [],
   "source": [
    "# initialise figure\n",
    "ncols = 4\n",
    "nrows = -(-(X.shape[1]) // ncols)\n",
    "fig, ax_all = plt.subplots(ncols=ncols, nrows=nrows, figsize=(18, 3 * nrows))\n",
    "\n",
    "# loop though all features\n",
    "for (_, x), ax in zip(X.items(), ax_all.flatten()):\n",
    "    dv.SingleDistribution(x.values, ax)()\n",
    "\n",
    "# set figure layout\n",
    "fig.tight_layout()"
   ]
  }
 ],
 "metadata": {
  "kernelspec": {
   "display_name": "env",
   "language": "python",
   "name": "python3"
  },
  "language_info": {
   "codemirror_mode": {
    "name": "ipython",
    "version": 3
   },
   "file_extension": ".py",
   "mimetype": "text/x-python",
   "name": "python",
   "nbconvert_exporter": "python",
   "pygments_lexer": "ipython3",
   "version": "3.8.6"
  },
  "orig_nbformat": 4,
  "vscode": {
   "interpreter": {
    "hash": "36d6aa84c87f1b104a600d17a8d98efd39d05e6f2d1b03c4fd1ed4cea37bc839"
   }
  }
 },
 "nbformat": 4,
 "nbformat_minor": 2
}
